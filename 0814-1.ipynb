{
 "cells": [
  {
   "cell_type": "code",
   "execution_count": 1,
   "metadata": {},
   "outputs": [
    {
     "name": "stdout",
     "output_type": "stream",
     "text": [
      "0814\n"
     ]
    }
   ],
   "source": [
    "print(\"0814\")"
   ]
  },
  {
   "cell_type": "code",
   "execution_count": 9,
   "metadata": {},
   "outputs": [
    {
     "name": "stdout",
     "output_type": "stream",
     "text": [
      "2*1= 2\t2*2= 4\t2*3= 6\t2*4= 8\t2*5=10\t2*6=12\t2*7=14\t2*8=16\t2*9=18\t\n",
      "3*1= 3\t3*2= 6\t3*3= 9\t3*4=12\t3*5=15\t3*6=18\t3*7=21\t3*8=24\t3*9=27\t\n",
      "4*1= 4\t4*2= 8\t4*3=12\t4*4=16\t4*5=20\t4*6=24\t4*7=28\t4*8=32\t4*9=36\t\n",
      "5*1= 5\t5*2=10\t5*3=15\t5*4=20\t5*5=25\t5*6=30\t5*7=35\t5*8=40\t5*9=45\t\n",
      "6*1= 6\t6*2=12\t6*3=18\t6*4=24\t6*5=30\t6*6=36\t6*7=42\t6*8=48\t6*9=54\t\n",
      "7*1= 7\t7*2=14\t7*3=21\t7*4=28\t7*5=35\t7*6=42\t7*7=49\t7*8=56\t7*9=63\t\n",
      "8*1= 8\t8*2=16\t8*3=24\t8*4=32\t8*5=40\t8*6=48\t8*7=56\t8*8=64\t8*9=72\t\n",
      "9*1= 9\t9*2=18\t9*3=27\t9*4=36\t9*5=45\t9*6=54\t9*7=63\t9*8=72\t9*9=81\t\n"
     ]
    }
   ],
   "source": [
    " \n",
    "for j in range(2,10):\n",
    "    for i in range(1,10):\n",
    "        print(\"%d*%d=%2d\"%(j,i,j*i),end=\"\\t\")\n",
    "    print()"
   ]
  },
  {
   "cell_type": "code",
   "execution_count": 17,
   "metadata": {},
   "outputs": [
    {
     "name": "stdout",
     "output_type": "stream",
     "text": [
      "1*1= 1\t2*1= 2\t3*1= 3\t4*1= 4\t5*1= 5\t6*1= 6\t7*1= 7\t8*1= 8\t9*1= 9\t\n",
      "1*2= 2\t2*2= 4\t3*2= 6\t4*2= 8\t5*2=10\t6*2=12\t7*2=14\t8*2=16\t9*2=18\t\n",
      "1*3= 3\t2*3= 6\t3*3= 9\t4*3=12\t5*3=15\t6*3=18\t7*3=21\t8*3=24\t9*3=27\t\n",
      "1*4= 4\t2*4= 8\t3*4=12\t4*4=16\t5*4=20\t6*4=24\t7*4=28\t8*4=32\t9*4=36\t\n",
      "1*5= 5\t2*5=10\t3*5=15\t4*5=20\t5*5=25\t6*5=30\t7*5=35\t8*5=40\t9*5=45\t\n",
      "1*6= 6\t2*6=12\t3*6=18\t4*6=24\t5*6=30\t6*6=36\t7*6=42\t8*6=48\t9*6=54\t\n",
      "1*7= 7\t2*7=14\t3*7=21\t4*7=28\t5*7=35\t6*7=42\t7*7=49\t8*7=56\t9*7=63\t\n",
      "1*8= 8\t2*8=16\t3*8=24\t4*8=32\t5*8=40\t6*8=48\t7*8=56\t8*8=64\t9*8=72\t\n",
      "1*9= 9\t2*9=18\t3*9=27\t4*9=36\t5*9=45\t6*9=54\t7*9=63\t8*9=72\t9*9=81\t\n"
     ]
    }
   ],
   "source": [
    "i=1\n",
    "while i<10:\n",
    "    j=1\n",
    "    while j<10:\n",
    "        print(\"%d*%d=%2d\"%(j,i,j*i),end=\"\\t\")\n",
    "        j+=1\n",
    "    i+=1\n",
    "    print()"
   ]
  },
  {
   "cell_type": "code",
   "execution_count": 18,
   "metadata": {},
   "outputs": [
    {
     "name": "stdout",
     "output_type": "stream",
     "text": [
      "1 2 3 "
     ]
    }
   ],
   "source": [
    "for i in range(1,5):\n",
    "    if i==4 :\n",
    "        break\n",
    "    print(i,end=\" \")"
   ]
  },
  {
   "cell_type": "code",
   "execution_count": 19,
   "metadata": {},
   "outputs": [
    {
     "name": "stdout",
     "output_type": "stream",
     "text": [
      "1 2 3 "
     ]
    }
   ],
   "source": [
    "for i in range(1,5):\n",
    "    if i==4 :\n",
    "        continue\n",
    "    print(i,end=\" \")"
   ]
  },
  {
   "cell_type": "code",
   "execution_count": 24,
   "metadata": {},
   "outputs": [
    {
     "name": "stdout",
     "output_type": "stream",
     "text": [
      "能被7整除 7\n",
      "能被7整除 14\n"
     ]
    }
   ],
   "source": [
    "for i in range(1,20):\n",
    "    if i%7==0 :\n",
    "        print(\"能被7整除\",i)\n",
    "        # break\n"
   ]
  },
  {
   "cell_type": "code",
   "execution_count": 30,
   "metadata": {},
   "outputs": [
    {
     "name": "stdout",
     "output_type": "stream",
     "text": [
      "奇數: 1\n",
      "奇數: 3\n",
      "奇數: 5\n",
      "奇數: 7\n",
      "奇數: 9\n",
      "奇數: 11\n",
      "奇數: 13\n",
      "奇數: 15\n",
      "奇數: 17\n",
      "奇數: 19\n"
     ]
    }
   ],
   "source": [
    "for i in range(1, 20):\n",
    "    if i % 2 == 0:\n",
    "        continue\n",
    "    print(\"奇數: %d\" % i)"
   ]
  },
  {
   "cell_type": "code",
   "execution_count": null,
   "metadata": {},
   "outputs": [
    {
     "name": "stdout",
     "output_type": "stream",
     "text": [
      "找到第一個奇數: 1\n"
     ]
    }
   ],
   "source": [
    "for i in range(1, 20):\n",
    "    if i % 2 != 0:\n",
    "        print(\"找到第一個奇數: %d\" % i)\n",
    "    break"
   ]
  },
  {
   "cell_type": "code",
   "execution_count": 8,
   "metadata": {},
   "outputs": [
    {
     "name": "stdout",
     "output_type": "stream",
     "text": [
      "0\n"
     ]
    }
   ],
   "source": [
    "a=int(input(\"請輸入a的值:\"))\n",
    "b=int(input(\"請輸入b的值:\"))\n",
    "n=max(a,b)\n",
    "for i in range((a+1)*(b+1)):\n",
    "    if i%a==0 and i%b==0:\n",
    "        print(i)\n",
    "        break"
   ]
  },
  {
   "cell_type": "code",
   "execution_count": null,
   "metadata": {},
   "outputs": [
    {
     "name": "stdout",
     "output_type": "stream",
     "text": [
      "1 2 3 4 6 7 8 9 11 12 13 14 16 17 18 19 21 "
     ]
    }
   ],
   "source": [
    "n=int(input(\"請輸入一個正整數:\"))\n",
    "for i in range(1,n+1):\n",
    "    if i%5==0:\n",
    "        continue\n",
    "    print(i,end=\" \")"
   ]
  },
  {
   "cell_type": "code",
   "execution_count": 12,
   "metadata": {},
   "outputs": [
    {
     "name": "stdout",
     "output_type": "stream",
     "text": [
      "6!=720\n"
     ]
    }
   ],
   "source": [
    "n=int(input(\"輸入正整數n:\"))\n",
    "a=n\n",
    "ans=1\n",
    "while n>0:\n",
    "    ans=ans*n\n",
    "    n-=1\n",
    "print(\"%d!=%d\"%(a,ans))"
   ]
  },
  {
   "cell_type": "code",
   "execution_count": 7,
   "metadata": {},
   "outputs": [
    {
     "name": "stdout",
     "output_type": "stream",
     "text": [
      "0~50的偶數和結果是650\n",
      "0~50的奇數和結果是625\n"
     ]
    }
   ],
   "source": [
    "n=1\n",
    "odd=0\n",
    "even=0\n",
    "while(n<51):\n",
    "    if n%2==0:\n",
    "        even+=n\n",
    "    else:\n",
    "        odd+=n\n",
    "    n+=1\n",
    "print(\"0~50的偶數和結果是%d\"%even)\n",
    "print(\"0~50的奇數和結果是%d\"%odd)"
   ]
  },
  {
   "cell_type": "code",
   "execution_count": 13,
   "metadata": {},
   "outputs": [
    {
     "name": "stdout",
     "output_type": "stream",
     "text": [
      "* * * * * * "
     ]
    }
   ],
   "source": [
    "n=int(input())\n",
    "while(n>0):\n",
    "    for i in range(n)\n",
    "    print('*',end=\" \")"
   ]
  },
  {
   "cell_type": "code",
   "execution_count": null,
   "metadata": {},
   "outputs": [],
   "source": []
  }
 ],
 "metadata": {
  "kernelspec": {
   "display_name": "Python 3",
   "language": "python",
   "name": "python3"
  },
  "language_info": {
   "codemirror_mode": {
    "name": "ipython",
    "version": 3
   },
   "file_extension": ".py",
   "mimetype": "text/x-python",
   "name": "python",
   "nbconvert_exporter": "python",
   "pygments_lexer": "ipython3",
   "version": "3.12.4"
  }
 },
 "nbformat": 4,
 "nbformat_minor": 2
}
