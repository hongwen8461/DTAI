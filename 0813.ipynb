{
 "cells": [
  {
   "cell_type": "code",
   "execution_count": 6,
   "metadata": {},
   "outputs": [
    {
     "name": "stdout",
     "output_type": "stream",
     "text": [
      "密碼錯誤\n"
     ]
    }
   ],
   "source": [
    "password=int(input())\n",
    "if password==1234 :\n",
    "    print(\"密碼正確\")\n",
    "else:\n",
    "    print(\"密碼錯誤\")"
   ]
  },
  {
   "cell_type": "code",
   "execution_count": 5,
   "metadata": {},
   "outputs": [
    {
     "name": "stdout",
     "output_type": "stream",
     "text": [
      "不用帶傘\n"
     ]
    }
   ],
   "source": [
    "rain=input()\n",
    "if rain==\"Y\" or rain==\"y\":\n",
    "    print(\"出門記得帶傘\")\n",
    "else:\n",
    "    print(\"不用帶傘\")"
   ]
  },
  {
   "cell_type": "code",
   "execution_count": 8,
   "metadata": {},
   "outputs": [
    {
     "name": "stdout",
     "output_type": "stream",
     "text": [
      "5 為奇數\n"
     ]
    }
   ],
   "source": [
    "n=int(input())\n",
    "if n%2==0:\n",
    "    print(\"%d 為偶數\"%n)\n",
    "else:\n",
    "    print(\"%d 為奇數\"%n)"
   ]
  },
  {
   "cell_type": "code",
   "execution_count": 14,
   "metadata": {},
   "outputs": [
    {
     "name": "stdout",
     "output_type": "stream",
     "text": [
      "體溫異常,請重新測量\n"
     ]
    }
   ],
   "source": [
    "n=float(input())\n",
    "if n>=37.5:\n",
    "    print(\"體溫過高\")\n",
    "elif n>=37 and n<37.5 :\n",
    "    print(\"體溫略高\")\n",
    "elif n>=34 and n<=36.9:\n",
    "    print(\"體溫正常\")\n",
    "else:\n",
    "    print(\"體溫異常,請重新測量\")\n"
   ]
  },
  {
   "cell_type": "code",
   "execution_count": 19,
   "metadata": {},
   "outputs": [
    {
     "name": "stdout",
     "output_type": "stream",
     "text": [
      "E\n"
     ]
    }
   ],
   "source": [
    "scores=int(input())\n",
    "if scores>=90:\n",
    "    print(\"A\")\n",
    "elif scores>=80 and scores<90:\n",
    "    print(\"B\")\n",
    "elif scores>=70 and scores<80:\n",
    "    print(\"C\")\n",
    "elif scores>=60 and scores<70:\n",
    "    print(\"D\")\n",
    "else :\n",
    "    print(\"E\")"
   ]
  },
  {
   "cell_type": "code",
   "execution_count": 23,
   "metadata": {},
   "outputs": [
    {
     "name": "stdout",
     "output_type": "stream",
     "text": [
      "5 月是春天\n"
     ]
    }
   ],
   "source": [
    "n=int(input())\n",
    "if n==3 or n==4 or n==5:\n",
    "    print(\"%d 月是春天\"%n)\n",
    "if n==6 or n==7 or n==8:\n",
    "    print(\"%d 月是夏天\"%n)\n",
    "if n==9 or n==10 or n==11:\n",
    "    print(\"%d 月是秋天\"%n)\n",
    "if n==12 or n==1 or n==2:\n",
    "    print(\"%d 月是東天\"%n)\n",
    "if n<=0 or n>12:\n",
    "    print(\"月份不在範為內\")"
   ]
  },
  {
   "cell_type": "code",
   "execution_count": 34,
   "metadata": {},
   "outputs": [
    {
     "name": "stdout",
     "output_type": "stream",
     "text": [
      "賦稅金額: 600000.000000 元\n"
     ]
    }
   ],
   "source": [
    "n=int(input())\n",
    "if n>=2000000:\n",
    "    print(\"賦稅金額: %f 元\"%(n*0.3))\n",
    "elif n<2000000 and n>=1000000:\n",
    "    print(\"賦稅金額: %f 元\"%(n*0.21))\n",
    "elif n<1000000 and n>=600000:\n",
    "    print(\"賦稅金額: %f 元\"%(n*0.13))\n",
    "elif n<600000 and n>=300000:\n",
    "    print(\"賦稅金額: %f 元\"%(n*0.06))\n",
    "else:\n",
    "    print(\"賦稅金額: 0 元\")"
   ]
  },
  {
   "cell_type": "code",
   "execution_count": 25,
   "metadata": {},
   "outputs": [
    {
     "name": "stdout",
     "output_type": "stream",
     "text": [
      "630.0\n"
     ]
    }
   ],
   "source": [
    "n=int(input())\n",
    "total=0\n",
    "if n>=1000:\n",
    "    total=n*0.2\n",
    "    print(n-total)\n",
    "elif n>=500 and n<1000:\n",
    "    total=n*0.1\n",
    "    print(n-total)\n",
    "else:\n",
    "    print(n)"
   ]
  },
  {
   "cell_type": "code",
   "execution_count": 28,
   "metadata": {},
   "outputs": [
    {
     "name": "stdout",
     "output_type": "stream",
     "text": [
      "油量充足\n"
     ]
    }
   ],
   "source": [
    "fuel=int(input())\n",
    "if fuel<5:\n",
    "    print(\"需要立即加油\")\n",
    "elif fuel>=5 and fuel<10:\n",
    "    print(\"油量不足，建議加油\")\n",
    "else:\n",
    "    print(\"油量充足\")"
   ]
  },
  {
   "cell_type": "code",
   "execution_count": 30,
   "metadata": {},
   "outputs": [
    {
     "name": "stdout",
     "output_type": "stream",
     "text": [
      "250\n"
     ]
    }
   ],
   "source": [
    "amount=int(input())\n",
    "if amount>10000:\n",
    "    print(n)\n",
    "elif amount>=5000 and amount<10000:\n",
    "    print(amount-50)\n",
    "elif amount>=1000 and amount<5000:\n",
    "    print(amount-100)\n",
    "else:\n",
    "    print(amount-150)"
   ]
  },
  {
   "cell_type": "code",
   "execution_count": null,
   "metadata": {},
   "outputs": [],
   "source": []
  }
 ],
 "metadata": {
  "kernelspec": {
   "display_name": "Python 3",
   "language": "python",
   "name": "python3"
  },
  "language_info": {
   "codemirror_mode": {
    "name": "ipython",
    "version": 3
   },
   "file_extension": ".py",
   "mimetype": "text/x-python",
   "name": "python",
   "nbconvert_exporter": "python",
   "pygments_lexer": "ipython3",
   "version": "3.12.4"
  }
 },
 "nbformat": 4,
 "nbformat_minor": 2
}
