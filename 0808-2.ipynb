{
 "cells": [
  {
   "cell_type": "code",
   "execution_count": 1,
   "metadata": {},
   "outputs": [
    {
     "name": "stdout",
     "output_type": "stream",
     "text": [
      "王善平\n"
     ]
    }
   ],
   "source": [
    "print(\"王善平\")"
   ]
  },
  {
   "cell_type": "code",
   "execution_count": 2,
   "metadata": {},
   "outputs": [
    {
     "name": "stderr",
     "output_type": "stream",
     "text": [
      "<>:1: SyntaxWarning: \"is not\" with 'float' literal. Did you mean \"!=\"?\n",
      "<>:1: SyntaxWarning: \"is not\" with 'float' literal. Did you mean \"!=\"?\n",
      "C:\\Users\\AA\\AppData\\Local\\Temp\\ipykernel_14124\\265249374.py:1: SyntaxWarning: \"is not\" with 'float' literal. Did you mean \"!=\"?\n",
      "  6.0 is not 2.0*3\n"
     ]
    },
    {
     "data": {
      "text/plain": [
       "False"
      ]
     },
     "execution_count": 2,
     "metadata": {},
     "output_type": "execute_result"
    }
   ],
   "source": [
    "6.0 is not 2.0*3"
   ]
  },
  {
   "cell_type": "code",
   "execution_count": 4,
   "metadata": {},
   "outputs": [
    {
     "name": "stderr",
     "output_type": "stream",
     "text": [
      "<>:1: SyntaxWarning: \"is\" with 'float' literal. Did you mean \"==\"?\n",
      "<>:1: SyntaxWarning: \"is\" with 'float' literal. Did you mean \"==\"?\n",
      "C:\\Users\\AA\\AppData\\Local\\Temp\\ipykernel_14124\\4142747251.py:1: SyntaxWarning: \"is\" with 'float' literal. Did you mean \"==\"?\n",
      "  6.0 is 2.0*3\n"
     ]
    },
    {
     "data": {
      "text/plain": [
       "True"
      ]
     },
     "execution_count": 4,
     "metadata": {},
     "output_type": "execute_result"
    }
   ],
   "source": [
    "6.0 is 2.0*3"
   ]
  },
  {
   "cell_type": "code",
   "execution_count": 10,
   "metadata": {},
   "outputs": [
    {
     "name": "stdout",
     "output_type": "stream",
     "text": [
      "在 2 4 2 下 解1 -4.0\n",
      "在 5 4 1 下 解1 (-10+5j)\n"
     ]
    }
   ],
   "source": [
    "a,b,c=2,4,2\n",
    "s1=(-b+(b**2-4*a*c)**0.5)/2*a\n",
    "print(\"在\",a,b,c,\"下\", \"解1\",s1)\n",
    "\n",
    "a,b,c=5,4,1\n",
    "s1=(-b+(b**2-4*a*c)**0.5)/2*a\n",
    "print(\"在\",a,b,c,\"下\", \"解1\",s1)"
   ]
  },
  {
   "cell_type": "code",
   "execution_count": 13,
   "metadata": {},
   "outputs": [
    {
     "name": "stdout",
     "output_type": "stream",
     "text": [
      "Radius=5.00\n",
      "circumference=31.42\n",
      "Area=78.54\n"
     ]
    }
   ],
   "source": [
    "import math\n",
    "Radius=eval(input())\n",
    "pi=math.pi\n",
    "circumference=(Radius+Radius)*pi\n",
    "Area=Radius*Radius*pi\n",
    "print(\"Radius={:.2f}\".format(Radius))\n",
    "print(\"circumference={:.2f}\".format(circumference))\n",
    "print(\"Area={:.2f}\".format(Area))\n"
   ]
  },
  {
   "cell_type": "code",
   "execution_count": null,
   "metadata": {},
   "outputs": [],
   "source": []
  }
 ],
 "metadata": {
  "kernelspec": {
   "display_name": "Python 3",
   "language": "python",
   "name": "python3"
  },
  "language_info": {
   "codemirror_mode": {
    "name": "ipython",
    "version": 3
   },
   "file_extension": ".py",
   "mimetype": "text/x-python",
   "name": "python",
   "nbconvert_exporter": "python",
   "pygments_lexer": "ipython3",
   "version": "3.12.4"
  }
 },
 "nbformat": 4,
 "nbformat_minor": 2
}
