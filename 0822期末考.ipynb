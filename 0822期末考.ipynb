{
 "cells": [
  {
   "cell_type": "code",
   "execution_count": 1,
   "metadata": {},
   "outputs": [
    {
     "name": "stdout",
     "output_type": "stream",
     "text": [
      "0822\n"
     ]
    }
   ],
   "source": [
    "print(\"0822\")"
   ]
  },
  {
   "cell_type": "code",
   "execution_count": 2,
   "metadata": {},
   "outputs": [
    {
     "name": "stdout",
     "output_type": "stream",
     "text": [
      "9.899999999999997\n"
     ]
    }
   ],
   "source": [
    "#計算除法餘數\n",
    "a=float(input())\n",
    "b=float(input())\n",
    "print(f'{a%b}')"
   ]
  },
  {
   "cell_type": "code",
   "execution_count": 3,
   "metadata": {},
   "outputs": [
    {
     "name": "stdout",
     "output_type": "stream",
     "text": [
      "370,371,407,"
     ]
    }
   ],
   "source": [
    "#利用for迴圈來尋找水仙花數\n",
    "a,b=map(int,input().split())\n",
    "for i in range(a,b):\n",
    "    h=i//100\n",
    "    c=(i%100)//10\n",
    "    d=i-h*100-c*10\n",
    "    if h**3+c**3+d**3==i:\n",
    "        print(i,end=\",\")"
   ]
  },
  {
   "cell_type": "code",
   "execution_count": 5,
   "metadata": {},
   "outputs": [
    {
     "name": "stdout",
     "output_type": "stream",
     "text": [
      "t=2.0 b=5.0 h=4.8 area=16.8\n"
     ]
    }
   ],
   "source": [
    "#計算梯形面積並格式化輸出\n",
    "a=float(input())\n",
    "b=float(input())\n",
    "h=float(input())\n",
    "area=(a+b)*h/2\n",
    "print(f't={a} b={b} h={h} area={area}')"
   ]
  },
  {
   "cell_type": "code",
   "execution_count": null,
   "metadata": {},
   "outputs": [],
   "source": [
    "#停車費計算\n",
    "n=int(input())\n",
    "h=n//60\n",
    "m=n%60\n",
    "pay=h*40\n",
    "if m>0:\n",
    "    pay+=20\n",
    "if pay>300:\n",
    "    pay=300\n",
    "print(f'park time:{h}h:{m}m')\n",
    "print(f'pay:{pay} money')\n"
   ]
  },
  {
   "cell_type": "code",
   "execution_count": 6,
   "metadata": {},
   "outputs": [
    {
     "name": "stdout",
     "output_type": "stream",
     "text": [
      "[3, 4, 5, 6, 7]\n"
     ]
    }
   ],
   "source": [
    "#利用range產生指定串列list\n",
    "a,b,c=map(int,input().split())\n",
    "newlist=[]\n",
    "for i in range(a,b,c):\n",
    "    newlist.append(i)\n",
    "print(newlist)"
   ]
  },
  {
   "cell_type": "code",
   "execution_count": 7,
   "metadata": {},
   "outputs": [
    {
     "name": "stdout",
     "output_type": "stream",
     "text": [
      "2000 is leap year\n"
     ]
    }
   ],
   "source": [
    "#判斷平年、閏年\n",
    "n=int(input())\n",
    "if (n%4==0 and n%100!=0) or n%400==0:\n",
    "    print(\"%d is leap year\"%n)\n",
    "else:\n",
    "    print(\"%d is common year\"%n)"
   ]
  },
  {
   "cell_type": "code",
   "execution_count": 8,
   "metadata": {},
   "outputs": [
    {
     "name": "stdout",
     "output_type": "stream",
     "text": [
      "90 is A\n"
     ]
    }
   ],
   "source": [
    "#成績等第判斷\n",
    "n=int(input())\n",
    "if n>=100:\n",
    "    print('%d is error'%n)\n",
    "elif n>=90 and n <100:\n",
    "    print(f'{n:d} is A')\n",
    "elif n>=80 and n <90:\n",
    "    print(f'{n:d} is B')\n",
    "elif n>=70 and n <80:\n",
    "    print(f'{n:d} is C')\n",
    "elif n>=60 and n <70:\n",
    "    print(f'{n:d} is D')\n",
    "elif n>=0 and n <60:\n",
    "    print(f'{n:d} is E')\n",
    "else:\n",
    "    print(f'{n:d} is error')"
   ]
  },
  {
   "cell_type": "code",
   "execution_count": 9,
   "metadata": {},
   "outputs": [
    {
     "name": "stdout",
     "output_type": "stream",
     "text": [
      "10,35,60,85,110,135,160,185,210,235,260,285,310,335,360,385,410,435,460,485,"
     ]
    }
   ],
   "source": [
    "#利用for迴圈產生指定數列\n",
    "a,b,c=map(int,input().split())\n",
    "for i in range(a,b,c):\n",
    "    print(i,end=\",\")"
   ]
  },
  {
   "cell_type": "code",
   "execution_count": 10,
   "metadata": {},
   "outputs": [
    {
     "name": "stdout",
     "output_type": "stream",
     "text": [
      "*\n",
      "**\n",
      "***\n",
      "****\n",
      "*****\n"
     ]
    }
   ],
   "source": [
    "#用＊印出靠左下的直角三角形\n",
    "n=int(input())\n",
    "for i in range(1,n+1):\n",
    "    print(\"*\"*i)"
   ]
  },
  {
   "cell_type": "code",
   "execution_count": 11,
   "metadata": {},
   "outputs": [
    {
     "name": "stdout",
     "output_type": "stream",
     "text": [
      "5*1=5 5*2=10 5*3=15 5*4=20 5*5=25 5*6=30 5*7=35 5*8=40 5*9=45 \n",
      "6*1=6 6*2=12 6*3=18 6*4=24 6*5=30 6*6=36 6*7=42 6*8=48 6*9=54 \n",
      "7*1=7 7*2=14 7*3=21 7*4=28 7*5=35 7*6=42 7*7=49 7*8=56 7*9=63 \n",
      "8*1=8 8*2=16 8*3=24 8*4=32 8*5=40 8*6=48 8*7=56 8*8=64 8*9=72 \n",
      "9*1=9 9*2=18 9*3=27 9*4=36 9*5=45 9*6=54 9*7=63 9*8=72 9*9=81 \n"
     ]
    }
   ],
   "source": [
    "#印出乘法表\n",
    "n=int(input())\n",
    "for j in range(n,10):\n",
    "    for i in range(1,10):\n",
    "        print(\"%d*%d=%d\"%(j,i,j*i),end=\" \")\n",
    "    print()"
   ]
  },
  {
   "cell_type": "code",
   "execution_count": null,
   "metadata": {},
   "outputs": [],
   "source": []
  }
 ],
 "metadata": {
  "kernelspec": {
   "display_name": "Python 3",
   "language": "python",
   "name": "python3"
  },
  "language_info": {
   "codemirror_mode": {
    "name": "ipython",
    "version": 3
   },
   "file_extension": ".py",
   "mimetype": "text/x-python",
   "name": "python",
   "nbconvert_exporter": "python",
   "pygments_lexer": "ipython3",
   "version": "3.12.4"
  }
 },
 "nbformat": 4,
 "nbformat_minor": 2
}
