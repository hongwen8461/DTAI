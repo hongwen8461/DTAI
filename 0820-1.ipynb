{
 "cells": [
  {
   "cell_type": "code",
   "execution_count": 1,
   "metadata": {},
   "outputs": [
    {
     "name": "stdout",
     "output_type": "stream",
     "text": [
      "0820-1\n"
     ]
    }
   ],
   "source": [
    "print(\"0820-1\")"
   ]
  },
  {
   "cell_type": "code",
   "execution_count": 2,
   "metadata": {},
   "outputs": [
    {
     "name": "stdout",
     "output_type": "stream",
     "text": [
      "[1, 2, 3, 4, 5]\n"
     ]
    }
   ],
   "source": [
    "print(list(range(1,6)))"
   ]
  },
  {
   "cell_type": "code",
   "execution_count": 3,
   "metadata": {},
   "outputs": [
    {
     "name": "stdout",
     "output_type": "stream",
     "text": [
      "[1, 3, 5, 7, 9]\n"
     ]
    }
   ],
   "source": [
    "print(list(range(1,10,2)))"
   ]
  },
  {
   "cell_type": "code",
   "execution_count": 5,
   "metadata": {},
   "outputs": [
    {
     "name": "stdout",
     "output_type": "stream",
     "text": [
      "[10, 9, 8, 7, 6, 5, 4, 3, 2, 1]\n"
     ]
    }
   ],
   "source": [
    "print(list(range(10,0,-1)))"
   ]
  },
  {
   "cell_type": "code",
   "execution_count": 9,
   "metadata": {},
   "outputs": [
    {
     "name": "stdout",
     "output_type": "stream",
     "text": [
      "[1, 2, 3, 4, 5]\n",
      "['香蕉', '頻果', '橘子']\n",
      "[1, '香蕉', True]\n"
     ]
    }
   ],
   "source": [
    "list1=[1,2,3,4,5]\n",
    "list2=[\"香蕉\",\"頻果\",\"橘子\"]\n",
    "list3=[1,\"香蕉\",True]\n",
    "print(list1)\n",
    "print(list2)\n",
    "print(list3)"
   ]
  },
  {
   "cell_type": "code",
   "execution_count": 15,
   "metadata": {},
   "outputs": [
    {
     "name": "stdout",
     "output_type": "stream",
     "text": [
      "1 香蕉 True\n",
      "5\n",
      "香蕉 頻果 橘子\n",
      "2\n"
     ]
    }
   ],
   "source": [
    "print(list3[0],list3[1],list3[2])\n",
    "print(list1[4])\n",
    "print(list2[0],list2[1],list2[2])\n",
    "print(list1[-4])"
   ]
  },
  {
   "cell_type": "code",
   "execution_count": 19,
   "metadata": {},
   "outputs": [
    {
     "name": "stdout",
     "output_type": "stream",
     "text": [
      "['mary', 'abcd']\n",
      "1234\n"
     ]
    }
   ],
   "source": [
    "list5=[[\"tom\",\"1234\"],[\"mary\",\"abcd\"],[\"advid\",\"5678\"]]\n",
    "print(list5[1])\n",
    "print(list5[0][1])"
   ]
  },
  {
   "cell_type": "code",
   "execution_count": 25,
   "metadata": {},
   "outputs": [
    {
     "name": "stdout",
     "output_type": "stream",
     "text": [
      "國文成績:85分\n",
      "數學成績:79分\n",
      "英文成績:93分\n"
     ]
    }
   ],
   "source": [
    "score=list(map(int,input().split()))\n",
    "print(f'國文成績:{score[0]}分')\n",
    "print(f'數學成績:{score[1]}分')\n",
    "print(f'英文成績:{score[2]}分')"
   ]
  },
  {
   "cell_type": "code",
   "execution_count": 26,
   "metadata": {},
   "outputs": [
    {
     "name": "stdout",
     "output_type": "stream",
     "text": [
      "香蕉,頻果,橘子,"
     ]
    }
   ],
   "source": [
    "list1=[\"香蕉\",\"頻果\",\"橘子\"]\n",
    "for i in list1:\n",
    "    print(i,end=\",\")"
   ]
  },
  {
   "cell_type": "code",
   "execution_count": 27,
   "metadata": {},
   "outputs": [
    {
     "name": "stdout",
     "output_type": "stream",
     "text": [
      "123\n",
      "apple\n",
      "True\n"
     ]
    }
   ],
   "source": [
    "list1=[123,\"apple\",True]\n",
    "for i in list1:\n",
    "    print(i)"
   ]
  },
  {
   "cell_type": "code",
   "execution_count": 28,
   "metadata": {},
   "outputs": [
    {
     "name": "stdout",
     "output_type": "stream",
     "text": [
      "3\n"
     ]
    }
   ],
   "source": [
    "scores=[85,79,93]\n",
    "print(len(scores))"
   ]
  },
  {
   "cell_type": "code",
   "execution_count": 29,
   "metadata": {},
   "outputs": [
    {
     "name": "stdout",
     "output_type": "stream",
     "text": [
      "85\n",
      "79\n",
      "93\n"
     ]
    }
   ],
   "source": [
    "scores=[85,79,93]\n",
    "for i in range(len(scores)):\n",
    "    print(scores[i])"
   ]
  },
  {
   "cell_type": "code",
   "execution_count": 37,
   "metadata": {},
   "outputs": [
    {
     "name": "stdout",
     "output_type": "stream",
     "text": [
      "國文 : 85\n",
      "數學 : 79\n",
      "英文 : 93\n"
     ]
    }
   ],
   "source": [
    "list1=[\"國文\",\"數學\",\"英文\"]\n",
    "scores=[85,79,93]\n",
    "for i in range(len(list1)):\n",
    "    print(list1[i],\":\",scores[i])\n",
    "# print(f'{list1[0][0]}成績:{list1[0][1]}分')\n",
    "# print(f'{list1[1][0]}成績:{list1[1][1]}分')\n",
    "# print(f'{list1[2][0]}成績:{list1[2][1]}分')\n",
    "\n"
   ]
  },
  {
   "cell_type": "code",
   "execution_count": 36,
   "metadata": {},
   "outputs": [
    {
     "name": "stdout",
     "output_type": "stream",
     "text": [
      "編號:1 姓名:Tom\n",
      "編號:2 姓名:Mary\n",
      "編號:3 姓名:Tony\n"
     ]
    }
   ],
   "source": [
    "list2=[\"Tom\",\"Mary\",\"Tony\"]\n",
    "for i in range(len(list2)):\n",
    "    print(f'編號:{i+1} 姓名:{list2[i]}')"
   ]
  },
  {
   "cell_type": "code",
   "execution_count": 40,
   "metadata": {},
   "outputs": [
    {
     "name": "stdout",
     "output_type": "stream",
     "text": [
      "wemo people two , emo people one "
     ]
    }
   ],
   "source": [
    "#將字串(list)每一項倒序印出來15,30,32\n",
    "n=input().split()\n",
    "new=[0 for i in range(len(n))]\n",
    "a=len(n)-1\n",
    "for i in range(len(n)):\n",
    "    new[a]=n[i]\n",
    "    a-=1\n",
    "for j in new:\n",
    "    print(j,end=\" \")"
   ]
  },
  {
   "cell_type": "code",
   "execution_count": 43,
   "metadata": {},
   "outputs": [
    {
     "name": "stdout",
     "output_type": "stream",
     "text": [
      "lovely and cute is panda "
     ]
    }
   ],
   "source": [
    "n=input().split()\n",
    "for i in range(len(n)-1,-1,-1):\n",
    "    print(n[i],end=\" \")"
   ]
  },
  {
   "cell_type": "code",
   "execution_count": 39,
   "metadata": {},
   "outputs": [
    {
     "name": "stdout",
     "output_type": "stream",
     "text": [
      "0,5,10,15,20,25,30,35,40,45,50,55,60,65,70,75,80,85,90,95,"
     ]
    }
   ],
   "source": [
    "#利用for迴圈產生指定數列\n",
    "n=input().split()\n",
    "num1=int(n[0])\n",
    "num2=int(n[1])\n",
    "num3=int(n[2])\n",
    "for i in range(num1,num2,num3):\n",
    "    print(i,end=\",\")"
   ]
  },
  {
   "cell_type": "code",
   "execution_count": 42,
   "metadata": {},
   "outputs": [
    {
     "name": "stdout",
     "output_type": "stream",
     "text": [
      "[3, 4, 5, 6, 7]\n"
     ]
    }
   ],
   "source": [
    "#利用range產生指定串列list\n",
    "n=input().split()\n",
    "num1=int(n[0])\n",
    "num2=int(n[1])\n",
    "num3=int(n[2])\n",
    "list_1=[ ]\n",
    "\n",
    "for i in range(num1,num2,num3):\n",
    "    list_1.append(i)\n",
    "print(list_1)"
   ]
  },
  {
   "cell_type": "code",
   "execution_count": 38,
   "metadata": {},
   "outputs": [
    {
     "name": "stdout",
     "output_type": "stream",
     "text": [
      "['5', '6', '9']\n"
     ]
    }
   ],
   "source": [
    "n=input().split()\n",
    "print(n)"
   ]
  },
  {
   "cell_type": "code",
   "execution_count": null,
   "metadata": {},
   "outputs": [],
   "source": []
  }
 ],
 "metadata": {
  "kernelspec": {
   "display_name": "Python 3",
   "language": "python",
   "name": "python3"
  },
  "language_info": {
   "codemirror_mode": {
    "name": "ipython",
    "version": 3
   },
   "file_extension": ".py",
   "mimetype": "text/x-python",
   "name": "python",
   "nbconvert_exporter": "python",
   "pygments_lexer": "ipython3",
   "version": "3.12.4"
  }
 },
 "nbformat": 4,
 "nbformat_minor": 2
}
