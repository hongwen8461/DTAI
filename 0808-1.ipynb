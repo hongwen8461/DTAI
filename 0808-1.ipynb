{
 "cells": [
  {
   "cell_type": "code",
   "execution_count": 3,
   "metadata": {},
   "outputs": [
    {
     "name": "stdout",
     "output_type": "stream",
     "text": [
      "王善平\n"
     ]
    }
   ],
   "source": [
    "print(\"王善平\")"
   ]
  },
  {
   "cell_type": "code",
   "execution_count": 7,
   "metadata": {},
   "outputs": [
    {
     "name": "stdout",
     "output_type": "stream",
     "text": [
      "12+3= 15\n",
      "12-3= 9\n",
      "12*3= 36\n",
      "32/5= 6.4\n",
      "32%5= 2\n",
      "32//5= 6\n",
      "7**3= 343\n"
     ]
    }
   ],
   "source": [
    "print(\"12+3=\",12+3)\n",
    "print(\"12-3=\",12-3)\n",
    "print(\"12*3=\",12*3)\n",
    "print(\"32/5=\",32/5)\n",
    "print(\"32%5=\",32%5)\n",
    "print(\"32//5=\",32//5)\n",
    "print(\"7**3=\",7**3)"
   ]
  },
  {
   "cell_type": "code",
   "execution_count": 26,
   "metadata": {},
   "outputs": [
    {
     "name": "stdout",
     "output_type": "stream",
     "text": [
      "梯形上底長度為: 3\n",
      "梯形下底長度為: 4\n",
      "梯形的高度為: 3\n",
      "梯形面積為: 10.5\n",
      "梯形上底長度為:3 梯形下底長度為:4 梯形的高度為:3 梯形面積為:10\n"
     ]
    }
   ],
   "source": [
    "上底=int(input(\"請輸入梯形上底長度:\"))\n",
    "下底=int(input(\"請輸入梯形下底長度:\"))\n",
    "高=int(input(\"請輸入梯形的高度:\"))\n",
    "print(\"梯形上底長度為:\",上底)\n",
    "print(\"梯形下底長度為:\",下底)\n",
    "print(\"梯形的高度為:\",高)\n",
    "print(\"梯形面積為:\",(上底+下底)*高/2)\n",
    "print(\"梯形上底長度為:%d 梯形下底長度為:%d 梯形的高度為:%d 梯形面積為:%d\"%(上底,下底,高,(上底+下底)*高/2))"
   ]
  },
  {
   "cell_type": "code",
   "execution_count": 2,
   "metadata": {},
   "outputs": [
    {
     "name": "stdout",
     "output_type": "stream",
     "text": [
      "身高180公分體重80公斤BMI值為24.691\n"
     ]
    }
   ],
   "source": [
    "t=int(input(\"請輸入身高(CM)\"))\n",
    "m=int(input(\"請輸入體重(Kg)\"))\n",
    "print(\"身高%d公分體重%d公斤BMI值為%5.3f\"%(t,m,m/((t/100)**2)))"
   ]
  },
  {
   "cell_type": "code",
   "execution_count": 30,
   "metadata": {},
   "outputs": [
    {
     "name": "stdout",
     "output_type": "stream",
     "text": [
      "True\n",
      "False\n",
      "False\n",
      "False\n",
      "True\n",
      "False\n"
     ]
    }
   ],
   "source": [
    "print(6+9==2+13)\n",
    "print(6+9!=2+13)\n",
    "print(6+9>2+13)\n",
    "print(8+9<2+13)\n",
    "print(6+9>=2+13)\n",
    "print(8+9<=2+13)"
   ]
  },
  {
   "cell_type": "code",
   "execution_count": 34,
   "metadata": {},
   "outputs": [
    {
     "name": "stdout",
     "output_type": "stream",
     "text": [
      "True\n",
      "False\n",
      "True\n",
      "False\n",
      "False\n",
      "False\n",
      "True\n",
      "True\n",
      "True\n",
      "False\n"
     ]
    }
   ],
   "source": [
    "print(not(3>5))\n",
    "print(not(3<    5))\n",
    "print((3<5)and(9>6))\n",
    "print((3<5)and(9<6))\n",
    "print((3>5)and(9>6))\n",
    "print((3<5)and(9<6))\n",
    "print((3<5)or(9>6))\n",
    "print((3<5)or(9<6))\n",
    "print((3>5)or(9>6))\n",
    "print((3>5)or(9<6))"
   ]
  },
  {
   "cell_type": "code",
   "execution_count": 43,
   "metadata": {},
   "outputs": [
    {
     "name": "stdout",
     "output_type": "stream",
     "text": [
      "6年後存款為: 11261.62419264\n"
     ]
    }
   ],
   "source": [
    "n=int(input(\"請輸入本金存款金額:\"))\n",
    "n*=(1+0.02)**6\n",
    "print(\"6年後存款為:\",n)"
   ]
  },
  {
   "cell_type": "code",
   "execution_count": 40,
   "metadata": {},
   "outputs": [
    {
     "name": "stdout",
     "output_type": "stream",
     "text": [
      "420000.0\n"
     ]
    }
   ],
   "source": [
    "n=int(input(\"請輸入今年收入淨額:\"))\n",
    "a=0\n",
    "if(n>2000000):\n",
    "    a=n*0.3\n",
    "elif(n<=2000000 and n>100000):\n",
    "    a=n*0.21\n",
    "elif(n<=1000000 and n>=600000):\n",
    "    a=n*0.13\n",
    "elif(n<=600000 and n>300000):\n",
    "    a=n*0.06\n",
    "else:\n",
    "    a=0\n",
    "print(a)"
   ]
  },
  {
   "cell_type": "code",
   "execution_count": null,
   "metadata": {},
   "outputs": [],
   "source": []
  }
 ],
 "metadata": {
  "kernelspec": {
   "display_name": "Python 3",
   "language": "python",
   "name": "python3"
  },
  "language_info": {
   "codemirror_mode": {
    "name": "ipython",
    "version": 3
   },
   "file_extension": ".py",
   "mimetype": "text/x-python",
   "name": "python",
   "nbconvert_exporter": "python",
   "pygments_lexer": "ipython3",
   "version": "3.12.4"
  }
 },
 "nbformat": 4,
 "nbformat_minor": 2
}
