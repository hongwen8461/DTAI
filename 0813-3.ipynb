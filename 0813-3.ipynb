{
 "cells": [
  {
   "cell_type": "code",
   "execution_count": 3,
   "metadata": {},
   "outputs": [
    {
     "name": "stdout",
     "output_type": "stream",
     "text": [
      "0813\n"
     ]
    }
   ],
   "source": [
    "print(\"0813\")"
   ]
  },
  {
   "cell_type": "code",
   "execution_count": 12,
   "metadata": {},
   "outputs": [
    {
     "name": "stdout",
     "output_type": "stream",
     "text": [
      "1+3+5+...+199= 10000\n",
      "1+3+5+...+199= 10000\n",
      "-9+-7+...+-1= -25\n"
     ]
    }
   ],
   "source": [
    "sum1,sum2=0,0\n",
    "for i in range(1,200,2):\n",
    "    sum1+=i\n",
    "    # print(i)\n",
    "print(\"1+3+5+...+199=\",sum1)\n",
    "print(f'1+3+5+...+199= {sum1}')\n",
    "for j in range(-9,0,2):\n",
    "    sum2+=j\n",
    "print(\"-9+-7+...+-1=\",sum2)\n"
   ]
  },
  {
   "cell_type": "code",
   "execution_count": 9,
   "metadata": {},
   "outputs": [
    {
     "name": "stdout",
     "output_type": "stream",
     "text": [
      "M a y "
     ]
    }
   ],
   "source": [
    "for i in 'May':\n",
    "    print(i,end=' ')"
   ]
  },
  {
   "cell_type": "code",
   "execution_count": 13,
   "metadata": {},
   "outputs": [
    {
     "name": "stdout",
     "output_type": "stream",
     "text": [
      "2+3*4-6/5的結果是:11.0\n"
     ]
    }
   ],
   "source": [
    "ans=2+3*4-6/2\n",
    "print(f'2+3*4-6/5的結果是:{ans}')"
   ]
  },
  {
   "cell_type": "code",
   "execution_count": 15,
   "metadata": {},
   "outputs": [
    {
     "name": "stdout",
     "output_type": "stream",
     "text": [
      "元的面積是:78.50圓的周長是:31.40\n"
     ]
    }
   ],
   "source": [
    "n=int(input(\"請輸入員半徑:\"))\n",
    "print(\"元的面積是:%.2f圓的周長是:%.2f\"%(n*n*3.14,2*3.14*n))\n"
   ]
  },
  {
   "cell_type": "code",
   "execution_count": 25,
   "metadata": {},
   "outputs": [
    {
     "name": "stdout",
     "output_type": "stream",
     "text": [
      "2000是閏年\n"
     ]
    }
   ],
   "source": [
    "n=int(input(\"請輸入一個年分:\"))\n",
    "if (n%4==0 and n%100!=0) or n%400==0:\n",
    "    print(\"%d是閏年\"%n)\n",
    "else:\n",
    "    print(\"%d不是閏年\"%n)\n",
    "\n"
   ]
  },
  {
   "cell_type": "code",
   "execution_count": 24,
   "metadata": {},
   "outputs": [
    {
     "name": "stdout",
     "output_type": "stream",
     "text": [
      "百位數: 1\n",
      "十位數: 2\n",
      "個位數: 3\n"
     ]
    }
   ],
   "source": [
    "n=input()\n",
    "list1=[]\n",
    "for i in n:\n",
    "    list1.append(i)\n",
    "\n",
    "print(\"百位數:\",list1[0])\n",
    "print(\"十位數:\",list1[1])\n",
    "print(\"個位數:\",list1[2])"
   ]
  },
  {
   "cell_type": "code",
   "execution_count": 4,
   "metadata": {},
   "outputs": [
    {
     "name": "stdout",
     "output_type": "stream",
     "text": [
      "這三個數字中的最大值是: 14\n"
     ]
    }
   ],
   "source": [
    "num1=eval(input(\"請輸入第一個數字:\"))\n",
    "num2=eval(input(\"請輸入第二個數字:\"))\n",
    "num3=eval(input(\"請輸入第三個數字:\"))\n",
    "max_num=0\n",
    "if num1>num2 and num1>num3:\n",
    "    max_num=num1\n",
    "elif num2>num1 and num2>num3:\n",
    "    max_num=num2\n",
    "else:\n",
    "    max_num=num3\n",
    "print(\"這三個數字中的最大值是:\",max_num)"
   ]
  },
  {
   "cell_type": "code",
   "execution_count": 5,
   "metadata": {},
   "outputs": [
    {
     "name": "stdout",
     "output_type": "stream",
     "text": [
      "36.00°C等於96.80°F\n"
     ]
    }
   ],
   "source": [
    "n=eval(input(\"請輸入攝氏溫度:\"))\n",
    "print(\"%.2f°C等於%.2f°F\"%(n,n*9/5+32))\n"
   ]
  },
  {
   "cell_type": "code",
   "execution_count": null,
   "metadata": {},
   "outputs": [],
   "source": []
  }
 ],
 "metadata": {
  "kernelspec": {
   "display_name": "Python 3",
   "language": "python",
   "name": "python3"
  },
  "language_info": {
   "codemirror_mode": {
    "name": "ipython",
    "version": 3
   },
   "file_extension": ".py",
   "mimetype": "text/x-python",
   "name": "python",
   "nbconvert_exporter": "python",
   "pygments_lexer": "ipython3",
   "version": "3.12.4"
  }
 },
 "nbformat": 4,
 "nbformat_minor": 2
}
