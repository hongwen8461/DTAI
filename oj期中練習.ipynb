{
 "cells": [
  {
   "cell_type": "code",
   "execution_count": 3,
   "metadata": {},
   "outputs": [
    {
     "name": "stdout",
     "output_type": "stream",
     "text": [
      "Peiyu\n",
      "5 letters\n"
     ]
    }
   ],
   "source": [
    "#Print字串與長度\n",
    "n=input()\n",
    "a=[]\n",
    "for i in n:\n",
    "    a.append(i)\n",
    "print(n)\n",
    "print(f'{len(a)} letters')"
   ]
  },
  {
   "cell_type": "code",
   "execution_count": 5,
   "metadata": {},
   "outputs": [
    {
     "name": "stdout",
     "output_type": "stream",
     "text": [
      "a=8.0 b=9.0\n",
      "ans=17.0\n"
     ]
    }
   ],
   "source": [
    "#輸出開根號結果並加總(20%)\n",
    "n = input().split()\n",
    "a1 = eval(n[0])\n",
    "b1 = eval(n[1])\n",
    "a = a1 ** 0.5\n",
    "b = b1 ** 0.5\n",
    "\n",
    "# 無論是整數還是浮點數，都以完全小數格式輸出\n",
    "print(f'a={a} b={b}')\n",
    "print(f'ans={a + b}')"
   ]
  },
  {
   "cell_type": "code",
   "execution_count": 6,
   "metadata": {},
   "outputs": [
    {
     "name": "stdout",
     "output_type": "stream",
     "text": [
      "28.02\n"
     ]
    }
   ],
   "source": [
    "#BMI計算\n",
    "n=input().split()\n",
    "m=float(n[0])\n",
    "kg=float(n[1])\n",
    "BMI=kg/(m**2)\n",
    "print(f'{BMI:.2f}')\n",
    "\n"
   ]
  },
  {
   "cell_type": "code",
   "execution_count": 7,
   "metadata": {},
   "outputs": [
    {
     "name": "stdout",
     "output_type": "stream",
     "text": [
      "21\n"
     ]
    }
   ],
   "source": [
    "#學號加總\n",
    "n=list(map(int,input().split()))\n",
    "sum=0\n",
    "for i in n:\n",
    "    sum+=i\n",
    "print(sum)\n",
    "\n"
   ]
  },
  {
   "cell_type": "code",
   "execution_count": 8,
   "metadata": {},
   "outputs": [
    {
     "name": "stdout",
     "output_type": "stream",
     "text": [
      "a=2 b=5\n",
      "a=5 b=2\n"
     ]
    }
   ],
   "source": [
    "#變數值交換\n",
    "n=input().split()\n",
    "a=int(n[0])\n",
    "b=int(n[1])\n",
    "print(f'a={a} b={b}')\n",
    "print(f'a={b} b={a}')"
   ]
  },
  {
   "cell_type": "code",
   "execution_count": null,
   "metadata": {},
   "outputs": [],
   "source": []
  }
 ],
 "metadata": {
  "kernelspec": {
   "display_name": "Python 3",
   "language": "python",
   "name": "python3"
  },
  "language_info": {
   "codemirror_mode": {
    "name": "ipython",
    "version": 3
   },
   "file_extension": ".py",
   "mimetype": "text/x-python",
   "name": "python",
   "nbconvert_exporter": "python",
   "pygments_lexer": "ipython3",
   "version": "3.10.5"
  }
 },
 "nbformat": 4,
 "nbformat_minor": 2
}
