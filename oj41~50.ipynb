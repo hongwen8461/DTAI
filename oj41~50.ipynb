{
 "cells": [
  {
   "cell_type": "code",
   "execution_count": 2,
   "metadata": {},
   "outputs": [
    {
     "name": "stdout",
     "output_type": "stream",
     "text": [
      "9.899999999999997\n"
     ]
    }
   ],
   "source": [
    "#計算除法餘數\n",
    "a=int(input())\n",
    "b=float(input())\n",
    "print(f'{a%b}')"
   ]
  },
  {
   "cell_type": "code",
   "execution_count": 1,
   "metadata": {},
   "outputs": [
    {
     "name": "stdout",
     "output_type": "stream",
     "text": [
      "9\n"
     ]
    }
   ],
   "source": [
    "#計算除法商數至整數\n",
    "a=int(input())\n",
    "b=float(input())\n",
    "print(int(a//b))"
   ]
  },
  {
   "cell_type": "code",
   "execution_count": 2,
   "metadata": {},
   "outputs": [
    {
     "name": "stdout",
     "output_type": "stream",
     "text": [
      "13.333333333333334\n"
     ]
    }
   ],
   "source": [
    "#計算除法商數至小數\n",
    "a=eval(input())\n",
    "b=eval(input())\n",
    "print(f'{a/b}')"
   ]
  },
  {
   "cell_type": "code",
   "execution_count": 3,
   "metadata": {},
   "outputs": [
    {
     "name": "stdout",
     "output_type": "stream",
     "text": [
      "24:0:0\n"
     ]
    }
   ],
   "source": [
    "#時間換算器(換算至時)\n",
    "n=int(input())\n",
    "m1=n//60\n",
    "h=m1//60\n",
    "m=m1-h*60\n",
    "s=n-(h*3600+m*60)\n",
    "print(\"%d:%d:%d\"%(h,m,s))"
   ]
  },
  {
   "cell_type": "code",
   "execution_count": 11,
   "metadata": {},
   "outputs": [
    {
     "name": "stdout",
     "output_type": "stream",
     "text": [
      "sum=269.20\n",
      "avg=89.73\n"
     ]
    }
   ],
   "source": [
    "n=list(map(float,input().split()))\n",
    "sum_scores=sum(n)\n",
    "avg=sum_scores/3\n",
    "print(f'sum={sum_scores:.2f}')\n",
    "print(f'avg={avg:.2f}')"
   ]
  },
  {
   "cell_type": "code",
   "execution_count": null,
   "metadata": {},
   "outputs": [],
   "source": []
  }
 ],
 "metadata": {
  "kernelspec": {
   "display_name": "Python 3",
   "language": "python",
   "name": "python3"
  },
  "language_info": {
   "codemirror_mode": {
    "name": "ipython",
    "version": 3
   },
   "file_extension": ".py",
   "mimetype": "text/x-python",
   "name": "python",
   "nbconvert_exporter": "python",
   "pygments_lexer": "ipython3",
   "version": "3.12.4"
  }
 },
 "nbformat": 4,
 "nbformat_minor": 2
}
