{
 "cells": [
  {
   "cell_type": "code",
   "execution_count": 2,
   "metadata": {},
   "outputs": [
    {
     "name": "stdout",
     "output_type": "stream",
     "text": [
      "9.899999999999997\n"
     ]
    }
   ],
   "source": [
    "#計算除法餘數\n",
    "a=int(input())\n",
    "b=float(input())\n",
    "print(f'{a%b}')"
   ]
  },
  {
   "cell_type": "code",
   "execution_count": 1,
   "metadata": {},
   "outputs": [
    {
     "name": "stdout",
     "output_type": "stream",
     "text": [
      "9\n"
     ]
    }
   ],
   "source": [
    "#計算除法商數至整數\n",
    "a=int(input())\n",
    "b=float(input())\n",
    "print(int(a//b))"
   ]
  },
  {
   "cell_type": "code",
   "execution_count": 2,
   "metadata": {},
   "outputs": [
    {
     "name": "stdout",
     "output_type": "stream",
     "text": [
      "13.333333333333334\n"
     ]
    }
   ],
   "source": [
    "#計算除法商數至小數\n",
    "a=eval(input())\n",
    "b=eval(input())\n",
    "print(f'{a/b}')"
   ]
  },
  {
   "cell_type": "code",
   "execution_count": 3,
   "metadata": {},
   "outputs": [
    {
     "name": "stdout",
     "output_type": "stream",
     "text": [
      "24:0:0\n"
     ]
    }
   ],
   "source": [
    "#時間換算器(換算至時)\n",
    "n=int(input())\n",
    "m1=n//60\n",
    "h=m1//60\n",
    "m=m1-h*60\n",
    "s=n-(h*3600+m*60)\n",
    "print(\"%d:%d:%d\"%(h,m,s))"
   ]
  },
  {
   "cell_type": "code",
   "execution_count": 11,
   "metadata": {},
   "outputs": [
    {
     "name": "stdout",
     "output_type": "stream",
     "text": [
      "sum=269.20\n",
      "avg=89.73\n"
     ]
    }
   ],
   "source": [
    "#45 成績計算機\n",
    "chinese, english, math = map(float, input().split())\n",
    "total = chinese + english + math\n",
    "average = total / 3\n",
    "print(f\"sum={round(total, 2)}\")\n",
    "print(f\"avg={round(average, 2)}\")"
   ]
  },
  {
   "cell_type": "code",
   "execution_count": 6,
   "metadata": {},
   "outputs": [
    {
     "name": "stdout",
     "output_type": "stream",
     "text": [
      "24.83\n"
     ]
    }
   ],
   "source": [
    "#46 BMI計算(分兩行輸入)\n",
    "cm=eval(input())\n",
    "kg=eval(input())\n",
    "bmi=kg/((cm/100)**2)\n",
    "print(f'{bmi:.2f}')\n"
   ]
  },
  {
   "cell_type": "code",
   "execution_count": 8,
   "metadata": {},
   "outputs": [
    {
     "name": "stdout",
     "output_type": "stream",
     "text": [
      "28.02\n"
     ]
    }
   ],
   "source": [
    "#47 BMI計算(同一行輸入)\n",
    "m,kg=map(eval,input().split())\n",
    "bmi=kg/(m**2)\n",
    "print(f'{bmi:.2f}')"
   ]
  },
  {
   "cell_type": "code",
   "execution_count": 9,
   "metadata": {},
   "outputs": [
    {
     "name": "stdout",
     "output_type": "stream",
     "text": [
      "6\n"
     ]
    }
   ],
   "source": [
    "#48 利用海龍公式來計算三角形面積\n",
    "a,b,c=map(int,input().split())\n",
    "s=(a+b+c)/2\n",
    "ans=(s*(s-a)*(s-b)*(s-c))**0.5\n",
    "print(int(ans))"
   ]
  },
  {
   "cell_type": "code",
   "execution_count": null,
   "metadata": {},
   "outputs": [],
   "source": []
  }
 ],
 "metadata": {
  "kernelspec": {
   "display_name": "Python 3",
   "language": "python",
   "name": "python3"
  },
  "language_info": {
   "codemirror_mode": {
    "name": "ipython",
    "version": 3
   },
   "file_extension": ".py",
   "mimetype": "text/x-python",
   "name": "python",
   "nbconvert_exporter": "python",
   "pygments_lexer": "ipython3",
   "version": "3.10.5"
  }
 },
 "nbformat": 4,
 "nbformat_minor": 2
}
