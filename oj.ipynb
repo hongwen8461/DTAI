{
 "cells": [
  {
   "cell_type": "code",
   "execution_count": 56,
   "metadata": {},
   "outputs": [
    {
     "name": "stdout",
     "output_type": "stream",
     "text": [
      "1~40\n"
     ]
    }
   ],
   "source": [
    "print(\"1~40\")"
   ]
  },
  {
   "cell_type": "code",
   "execution_count": 1,
   "metadata": {},
   "outputs": [
    {
     "name": "stdout",
     "output_type": "stream",
     "text": [
      "4\n"
     ]
    }
   ],
   "source": [
    "##找出3個數的最小值\n",
    "a1,b1,c1=input().split()\n",
    "a=int(a1)\n",
    "b=int(b1)\n",
    "c=int(c1)\n",
    "print(min(a,b,c))"
   ]
  },
  {
   "cell_type": "code",
   "execution_count": 2,
   "metadata": {},
   "outputs": [
    {
     "name": "stdout",
     "output_type": "stream",
     "text": [
      "8.0\n"
     ]
    }
   ],
   "source": [
    "##找出3個數的最大值\n",
    "a1,b1,c1=input().split()\n",
    "a=float(a1)\n",
    "b=float(b1)\n",
    "c=float(c1)\n",
    "print(max(a,b,c))"
   ]
  },
  {
   "cell_type": "code",
   "execution_count": 3,
   "metadata": {},
   "outputs": [
    {
     "name": "stdout",
     "output_type": "stream",
     "text": [
      "1\n",
      "12\n",
      "123\n",
      "1234\n",
      "12345\n"
     ]
    }
   ],
   "source": [
    "##用連續數字印出靠左下的直角三角形\n",
    "n = int(input())\n",
    "for i in range(1, n + 1):\n",
    "    for j in range(1, i + 1):\n",
    "        print(j, end=\"\")\n",
    "    print()\n"
   ]
  },
  {
   "cell_type": "code",
   "execution_count": 7,
   "metadata": {},
   "outputs": [
    {
     "name": "stdout",
     "output_type": "stream",
     "text": [
      "Invalid\n"
     ]
    }
   ],
   "source": [
    "#判斷是否構成三角形\n",
    "a, b, c = map(int, input().split())\n",
    "if (a + b > c) and (a + c > b) and (b + c > a):\n",
    "    print(\"Valid\")\n",
    "else:\n",
    "    print(\"Invalid\")"
   ]
  },
  {
   "cell_type": "code",
   "execution_count": 10,
   "metadata": {},
   "outputs": [
    {
     "name": "stdout",
     "output_type": "stream",
     "text": [
      "1 5 7 35 "
     ]
    }
   ],
   "source": [
    "#列出所有因數\n",
    "n=int(input())\n",
    "for i in range(1,n+1):\n",
    "    if n%i==0:\n",
    "        print(i,end=' ')\n"
   ]
  },
  {
   "cell_type": "code",
   "execution_count": 11,
   "metadata": {},
   "outputs": [
    {
     "name": "stdout",
     "output_type": "stream",
     "text": [
      "84\n"
     ]
    }
   ],
   "source": [
    "#計算3或7的倍數總和\n",
    "n=int(input())\n",
    "sum=0\n",
    "for i in range(1,n+1):\n",
    "    if i%3==0 or i%7==0:\n",
    "        sum+=i\n",
    "print(sum)"
   ]
  },
  {
   "cell_type": "code",
   "execution_count": 15,
   "metadata": {},
   "outputs": [
    {
     "name": "stdout",
     "output_type": "stream",
     "text": [
      "*\n",
      "**\n",
      "***\n",
      "****\n"
     ]
    }
   ],
   "source": [
    "#用＊印出靠左下的直角三角形\n",
    "n=int(input())\n",
    "for i in range(1,n+1):\n",
    "    print('*'*i)"
   ]
  },
  {
   "cell_type": "code",
   "execution_count": 20,
   "metadata": {},
   "outputs": [
    {
     "name": "stdout",
     "output_type": "stream",
     "text": [
      "1\n"
     ]
    }
   ],
   "source": [
    "\n",
    "#求兩數的最大公因數\n",
    "a1,b1=input().split()\n",
    "a=int(a1)\n",
    "b=int(b1)\n",
    "n=max(a,b)\n",
    "num=[]\n",
    "for i in range(1,n+1):\n",
    "    if a%i==0 and b%i==0:\n",
    "        num.append(i)\n",
    "print(max(num))"
   ]
  },
  {
   "cell_type": "code",
   "execution_count": 5,
   "metadata": {},
   "outputs": [
    {
     "name": "stdout",
     "output_type": "stream",
     "text": [
      "01:04:05\n"
     ]
    }
   ],
   "source": [
    "\n",
    "#時間秒數轉換\n",
    "n=int(input())\n",
    "m1=n//60\n",
    "h=m1//60\n",
    "m=m1-h*60\n",
    "s=n-(h*3600+m*60)\n",
    "print(\"%02d:%02d:%02d\"%(h,m,s))"
   ]
  },
  {
   "cell_type": "code",
   "execution_count": 7,
   "metadata": {},
   "outputs": [
    {
     "name": "stdout",
     "output_type": "stream",
     "text": [
      "54\n"
     ]
    }
   ],
   "source": [
    "#偶數加總\n",
    "n=int(input())\n",
    "sum=0\n",
    "for i in range(15,n+1):\n",
    "    if i %2==0:\n",
    "        sum+=i\n",
    "print(sum)"
   ]
  },
  {
   "cell_type": "code",
   "execution_count": 9,
   "metadata": {},
   "outputs": [
    {
     "name": "stdout",
     "output_type": "stream",
     "text": [
      "Ans Hello World\n"
     ]
    }
   ],
   "source": [
    "#Print字串\n",
    "n=input()\n",
    "print(\"Ans %s\"%n)"
   ]
  },
  {
   "cell_type": "code",
   "execution_count": 17,
   "metadata": {},
   "outputs": [
    {
     "name": "stdout",
     "output_type": "stream",
     "text": [
      "38\n"
     ]
    }
   ],
   "source": [
    "# 學號總和\n",
    "n=list(map(int,input().split()))\n",
    "sum=0\n",
    "for i in n:\n",
    "    sum+=i\n",
    "print(sum)"
   ]
  },
  {
   "cell_type": "code",
   "execution_count": 25,
   "metadata": {},
   "outputs": [
    {
     "name": "stdout",
     "output_type": "stream",
     "text": [
      "banana orange apple "
     ]
    }
   ],
   "source": [
    "#將文字順序顛倒印出\n",
    "n=input().split()\n",
    "new=[0,0,0]\n",
    "a=len(n)-1\n",
    "for i in range(len(n)):\n",
    "    new[a]=n[i]\n",
    "    a-=1\n",
    "for j in new:\n",
    "    print(j,end=\" \")\n",
    "# print(new)"
   ]
  },
  {
   "cell_type": "code",
   "execution_count": 5,
   "metadata": {},
   "outputs": [
    {
     "name": "stdout",
     "output_type": "stream",
     "text": [
      "lovely and cute is panda "
     ]
    }
   ],
   "source": [
    "#將字串(list)每一項倒序印出來\n",
    "n=input().split()\n",
    "for i in range(len(n)-1,-1,-1):\n",
    "    print(n[i],end=\" \")"
   ]
  },
  {
   "cell_type": "code",
   "execution_count": 1,
   "metadata": {},
   "outputs": [
    {
     "name": "stdout",
     "output_type": "stream",
     "text": [
      "wemo people two , emo people one "
     ]
    }
   ],
   "source": [
    "#將字串(list)每一項倒序印出來\n",
    "n=input().split()\n",
    "new=[0 for i in range(len(n))]\n",
    "a=len(n)-1\n",
    "for i in range(len(n)):\n",
    "    new[a]=n[i]\n",
    "    a-=1\n",
    "for j in new:\n",
    "    print(j,end=\" \")"
   ]
  },
  {
   "cell_type": "code",
   "execution_count": 2,
   "metadata": {},
   "outputs": [
    {
     "name": "stdout",
     "output_type": "stream",
     "text": [
      "1245\n"
     ]
    }
   ],
   "source": [
    "#四則運算-加法\n",
    "a=input().split('+')\n",
    "sum=0\n",
    "for i in a:\n",
    "    sum+=int(i)\n",
    "\n",
    "print(sum)"
   ]
  },
  {
   "cell_type": "code",
   "execution_count": 4,
   "metadata": {},
   "outputs": [
    {
     "name": "stdout",
     "output_type": "stream",
     "text": [
      "143\n"
     ]
    }
   ],
   "source": [
    "#求兩數的最小公倍數\n",
    "n=input().split()\n",
    "a=int(n[0])\n",
    "b=int(n[1])\n",
    "for i in range(1,(a+1)*(b+1)):\n",
    "    if i%a==0 and i%b==0:\n",
    "        print(i)\n",
    "        break"
   ]
  },
  {
   "cell_type": "code",
   "execution_count": 4,
   "metadata": {},
   "outputs": [
    {
     "name": "stdout",
     "output_type": "stream",
     "text": [
      "********\n",
      "total:8\n"
     ]
    }
   ],
   "source": [
    "#製作密碼遮罩器\n",
    "n=input()\n",
    "total=0\n",
    "for i in n:\n",
    "    total+=1\n",
    "    print(\"*\",end='')\n",
    "print()\n",
    "print(f'total:{total}')"
   ]
  },
  {
   "cell_type": "code",
   "execution_count": 5,
   "metadata": {},
   "outputs": [
    {
     "name": "stdout",
     "output_type": "stream",
     "text": [
      "165\n"
     ]
    }
   ],
   "source": [
    "#正整數和\n",
    "n=int(input())\n",
    "total=0\n",
    "for i in range(10,n+1):\n",
    "    total+=i\n",
    "print(total)\n"
   ]
  },
  {
   "cell_type": "code",
   "execution_count": 7,
   "metadata": {},
   "outputs": [
    {
     "name": "stdout",
     "output_type": "stream",
     "text": [
      "37.4 is little over\n"
     ]
    }
   ],
   "source": [
    "#體溫判斷\n",
    "n=eval(input())\n",
    "if n>=37.5:\n",
    "    print('%.1f is over'%n)\n",
    "elif n>=37 and n <=37.4:\n",
    "    print(f'{n:.1f} is little over')\n",
    "elif n>=34 and n <=36.9:\n",
    "    print(f'{n:.1f} is normal')\n",
    "else:\n",
    "    print(f'{n:.1f} is error')\n"
   ]
  },
  {
   "cell_type": "code",
   "execution_count": 8,
   "metadata": {},
   "outputs": [
    {
     "name": "stdout",
     "output_type": "stream",
     "text": [
      "120 is error\n"
     ]
    }
   ],
   "source": [
    "#成績等第判斷\n",
    "n=int(input())\n",
    "if n>=100:\n",
    "    print('%d is error'%n)\n",
    "elif n>=90 and n <100:\n",
    "    print(f'{n:d} is A')\n",
    "elif n>=80 and n <90:\n",
    "    print(f'{n:d} is B')\n",
    "elif n>=70 and n <80:\n",
    "    print(f'{n:d} is C')\n",
    "elif n>=60 and n <70:\n",
    "    print(f'{n:d} is D')\n",
    "elif n>=0 and n <60:\n",
    "    print(f'{n:d} is E')\n",
    "else:\n",
    "    print(f'{n:d} is error')"
   ]
  },
  {
   "cell_type": "code",
   "execution_count": 13,
   "metadata": {},
   "outputs": [
    {
     "name": "stdout",
     "output_type": "stream",
     "text": [
      "1 is winter\n"
     ]
    }
   ],
   "source": [
    "#季節判斷(國曆)\n",
    "n=int(input())\n",
    "if n>=13 or n<1:\n",
    "    print('input error')\n",
    "elif n>=3 and n<=5:\n",
    "    print(f'{n:d} is spring')\n",
    "elif n>=6 and n<=8:\n",
    "    print(f'{n:d} is summer')\n",
    "elif n>=9 and n<=11:\n",
    "    print(f'{n:d} is autumn')\n",
    "else:\n",
    "    print(f'{n:d} is winter')"
   ]
  },
  {
   "cell_type": "code",
   "execution_count": 20,
   "metadata": {},
   "outputs": [
    {
     "name": "stdout",
     "output_type": "stream",
     "text": [
      "park time:6h:9m\n",
      "pay:260 money\n"
     ]
    }
   ],
   "source": [
    "# 停車費計算\n",
    "n=int(input())\n",
    "h=n//60\n",
    "m=n%60\n",
    "pay=h*40+20\n",
    "if pay>300:\n",
    "    pay=300\n",
    "print(f'park time:{h}h:{m}m')\n",
    "print(f'pay:{pay} money')"
   ]
  },
  {
   "cell_type": "code",
   "execution_count": 23,
   "metadata": {},
   "outputs": [
    {
     "name": "stdout",
     "output_type": "stream",
     "text": [
      "sum:29\n",
      "squ:5.385164807134504\n",
      "squi:5\n",
      "squi is odd\n"
     ]
    }
   ],
   "source": [
    "# 將學號總和開根號後，再判斷奇偶數\n",
    "n=input().split()\n",
    "sum=0\n",
    "for i in n:\n",
    "    sum+=int(i)\n",
    "squ=sum**0.5\n",
    "squi=int(squ)\n",
    "print('sum:%d'%sum)\n",
    "print(f'squ:{squ}')\n",
    "print('squi:%d'%squ)\n",
    "if squi%2==0:\n",
    "    print('squi is even')\n",
    "else:\n",
    "    print('squi is odd')\n"
   ]
  },
  {
   "cell_type": "code",
   "execution_count": 32,
   "metadata": {},
   "outputs": [
    {
     "name": "stdout",
     "output_type": "stream",
     "text": [
      "95% discount is 28499.05\n"
     ]
    }
   ],
   "source": [
    "#百貨公司週年慶\n",
    "n=int(input())\n",
    "if n>=100000:\n",
    "    print(f'80% discount is {n*0.8}')\n",
    "elif n>=50000 and n<100000:\n",
    "    print(f'85% discount is {n*0.85}')\n",
    "elif n>=30000 and n<50000:\n",
    "    print(f'90% discount is {n*0.9}')\n",
    "elif n>=10000 and n<30000:\n",
    "    print(f'95% discount is {n*0.95}')\n",
    "else:\n",
    "    print(f'no discount is {n}')"
   ]
  },
  {
   "cell_type": "code",
   "execution_count": 25,
   "metadata": {},
   "outputs": [
    {
     "name": "stdout",
     "output_type": "stream",
     "text": [
      "5*1=5 5*2=10 5*3=15 5*4=20 5*5=25 5*6=30 5*7=35 5*8=40 5*9=45 \n",
      "6*1=6 6*2=12 6*3=18 6*4=24 6*5=30 6*6=36 6*7=42 6*8=48 6*9=54 \n",
      "7*1=7 7*2=14 7*3=21 7*4=28 7*5=35 7*6=42 7*7=49 7*8=56 7*9=63 \n",
      "8*1=8 8*2=16 8*3=24 8*4=32 8*5=40 8*6=48 8*7=56 8*8=64 8*9=72 \n",
      "9*1=9 9*2=18 9*3=27 9*4=36 9*5=45 9*6=54 9*7=63 9*8=72 9*9=81 \n"
     ]
    }
   ],
   "source": [
    "#印出乘法表\n",
    "n=int(input())\n",
    "for j in range(n,10):\n",
    "    for i in range(1,10):\n",
    "        print(\"%d*%d=%d\"%(j,i,j*i),end=\" \")\n",
    "    print()"
   ]
  },
  {
   "cell_type": "code",
   "execution_count": 34,
   "metadata": {},
   "outputs": [
    {
     "name": "stdout",
     "output_type": "stream",
     "text": [
      "Valid\n"
     ]
    }
   ],
   "source": [
    "#判斷是否為等腰三角形\n",
    "n=input().split()\n",
    "a=int(n[0])\n",
    "b=int(n[1])\n",
    "c=int(n[2])\n",
    "if a==b or b==c or a==c:\n",
    "    print('Valid')\n",
    "else:\n",
    "    print(\"Invalid\")"
   ]
  },
  {
   "cell_type": "code",
   "execution_count": 35,
   "metadata": {},
   "outputs": [
    {
     "name": "stdout",
     "output_type": "stream",
     "text": [
      "pay 78000.0 money\n"
     ]
    }
   ],
   "source": [
    "#應付稅額判斷\n",
    "n=int(input())\n",
    "if n>=2000000:\n",
    "    print(f'pay {n*0.3} money')\n",
    "elif n>=1000000 and n<2000000:\n",
    "    print(f'pay {n*0.21} money')\n",
    "elif n>=600000 and n<1000000:\n",
    "    print(f'pay {n*0.13} money')\n",
    "elif n>=300000 and n<600000:\n",
    "    print(f'pay {n*0.06} money')\n",
    "else:\n",
    "    print(f'pay {n*0} money')"
   ]
  },
  {
   "cell_type": "code",
   "execution_count": 36,
   "metadata": {},
   "outputs": [
    {
     "name": "stdout",
     "output_type": "stream",
     "text": [
      "Tku Peiyu\n"
     ]
    }
   ],
   "source": [
    "#Print字串相加\n",
    "n=input()\n",
    "print(f'Tku {n}')"
   ]
  },
  {
   "cell_type": "code",
   "execution_count": 37,
   "metadata": {},
   "outputs": [
    {
     "name": "stdout",
     "output_type": "stream",
     "text": [
      "450.0\n"
     ]
    }
   ],
   "source": [
    "#計算梯形面積\n",
    "a=eval(input())\n",
    "b=eval(input())\n",
    "h=eval(input())\n",
    "print(f'{(a+b)*h/2}')"
   ]
  },
  {
   "cell_type": "code",
   "execution_count": 47,
   "metadata": {},
   "outputs": [
    {
     "name": "stdout",
     "output_type": "stream",
     "text": [
      "153,370,371,407,"
     ]
    }
   ],
   "source": [
    "a,b=map(int,input().split())\n",
    "for i in range(a,b):\n",
    "    a1=i//100\n",
    "    a2=(i-a1*100)//10\n",
    "    a3=(i-a1*100-a2*10)\n",
    "    if a1**3+a2**3+a3**3==i:\n",
    "        print(i,end=\",\")"
   ]
  },
  {
   "cell_type": "code",
   "execution_count": 51,
   "metadata": {},
   "outputs": [
    {
     "name": "stdout",
     "output_type": "stream",
     "text": [
      "t=50.0 b=80.99 h=52.69 area=3450.9315500000002\n"
     ]
    }
   ],
   "source": [
    "#計算梯形面積並格式化輸出\n",
    "a=float(input())\n",
    "b=float(input())\n",
    "h=float(input())\n",
    "area=(a+b)*h/2\n",
    "print(f't={a} b={b} h={h} area={area}')"
   ]
  },
  {
   "cell_type": "code",
   "execution_count": 55,
   "metadata": {},
   "outputs": [
    {
     "name": "stdout",
     "output_type": "stream",
     "text": [
      "16\n"
     ]
    }
   ],
   "source": [
    "n=input()\n",
    "print(len(n))"
   ]
  },
  {
   "cell_type": "code",
   "execution_count": null,
   "metadata": {},
   "outputs": [],
   "source": []
  }
 ],
 "metadata": {
  "kernelspec": {
   "display_name": "Python 3",
   "language": "python",
   "name": "python3"
  },
  "language_info": {
   "codemirror_mode": {
    "name": "ipython",
    "version": 3
   },
   "file_extension": ".py",
   "mimetype": "text/x-python",
   "name": "python",
   "nbconvert_exporter": "python",
   "pygments_lexer": "ipython3",
   "version": "3.12.4"
  }
 },
 "nbformat": 4,
 "nbformat_minor": 2
}
