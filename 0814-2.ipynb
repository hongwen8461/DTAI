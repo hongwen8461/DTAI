{
 "cells": [
  {
   "cell_type": "code",
   "execution_count": 2,
   "metadata": {},
   "outputs": [
    {
     "name": "stdout",
     "output_type": "stream",
     "text": [
      "0814-2\n"
     ]
    }
   ],
   "source": [
    "print(\"0814-2\")"
   ]
  },
  {
   "cell_type": "code",
   "execution_count": 8,
   "metadata": {},
   "outputs": [
    {
     "name": "stdout",
     "output_type": "stream",
     "text": [
      "1 * 1 = 1\t1 * 2 = 2\t1 * 3 = 3\t1 * 4 = 4\t1 * 5 = 5\t1 * 6 = 6\t1 * 7 = 7\t1 * 8 = 8\t1 * 9 = 9\t\n",
      "2 * 1 = 2\t2 * 2 = 4\t2 * 3 = 6\t2 * 4 = 8\t2 * 5 =10\t2 * 6 =12\t2 * 7 =14\t2 * 8 =16\t2 * 9 =18\t\n",
      "3 * 1 = 3\t3 * 2 = 6\t3 * 3 = 9\t3 * 4 =12\t3 * 5 =15\t3 * 6 =18\t3 * 7 =21\t3 * 8 =24\t3 * 9 =27\t\n",
      "4 * 1 = 4\t4 * 2 = 8\t4 * 3 =12\t4 * 4 =16\t4 * 5 =20\t4 * 6 =24\t4 * 7 =28\t4 * 8 =32\t4 * 9 =36\t\n",
      "5 * 1 = 5\t5 * 2 =10\t5 * 3 =15\t5 * 4 =20\t5 * 5 =25\t5 * 6 =30\t5 * 7 =35\t5 * 8 =40\t5 * 9 =45\t\n",
      "6 * 1 = 6\t6 * 2 =12\t6 * 3 =18\t6 * 4 =24\t6 * 5 =30\t6 * 6 =36\t6 * 7 =42\t6 * 8 =48\t6 * 9 =54\t\n",
      "7 * 1 = 7\t7 * 2 =14\t7 * 3 =21\t7 * 4 =28\t7 * 5 =35\t7 * 6 =42\t7 * 7 =49\t7 * 8 =56\t7 * 9 =63\t\n",
      "8 * 1 = 8\t8 * 2 =16\t8 * 3 =24\t8 * 4 =32\t8 * 5 =40\t8 * 6 =48\t8 * 7 =56\t8 * 8 =64\t8 * 9 =72\t\n",
      "9 * 1 = 9\t9 * 2 =18\t9 * 3 =27\t9 * 4 =36\t9 * 5 =45\t9 * 6 =54\t9 * 7 =63\t9 * 8 =72\t9 * 9 =81\t\n"
     ]
    }
   ],
   "source": [
    "for i in range(1,10):\n",
    "    for j in range(1,10):\n",
    "        print(\"%d * %d =%2d\"%(i,j,i*j),end=\"\\t\")\n",
    "    print()"
   ]
  },
  {
   "cell_type": "code",
   "execution_count": 9,
   "metadata": {},
   "outputs": [
    {
     "name": "stdout",
     "output_type": "stream",
     "text": [
      "25\n"
     ]
    }
   ],
   "source": [
    "asum=0\n",
    "for a in range(1,1000):\n",
    "    for b in range(1,1000):\n",
    "        if (a**2+b**2)%(a*b+1)==0:\n",
    "            asum+=1\n",
    "print(asum)\n"
   ]
  },
  {
   "cell_type": "code",
   "execution_count": 10,
   "metadata": {},
   "outputs": [
    {
     "name": "stdout",
     "output_type": "stream",
     "text": [
      "165\n"
     ]
    }
   ],
   "source": [
    "sum=0\n",
    "for i in range(1,10):\n",
    "    for j in range(1,i+1):\n",
    "        sum+=j\n",
    "print(sum)"
   ]
  },
  {
   "cell_type": "code",
   "execution_count": 11,
   "metadata": {},
   "outputs": [
    {
     "name": "stdout",
     "output_type": "stream",
     "text": [
      "1+2+...+99= 4950\n"
     ]
    }
   ],
   "source": [
    "sum=0\n",
    "num=1\n",
    "while num<=99:\n",
    "    sum+=num\n",
    "    num+=1\n",
    "print(\"1+2+...+99=\",sum)"
   ]
  },
  {
   "cell_type": "code",
   "execution_count": 12,
   "metadata": {},
   "outputs": [
    {
     "name": "stdout",
     "output_type": "stream",
     "text": [
      "Happy Sunday\n",
      "Happy Sunday\n"
     ]
    }
   ],
   "source": [
    "while True:\n",
    "    user_input=input()\n",
    "    if user_input== 'n':\n",
    "        break\n",
    "    print(\"Happy Sunday\")"
   ]
  },
  {
   "cell_type": "code",
   "execution_count": null,
   "metadata": {},
   "outputs": [],
   "source": [
    "n=int(input())\n",
    "for i in range(1,n+1):\n",
    "    if n%i==0:\n",
    "        print(i,end=\" \")"
   ]
  },
  {
   "cell_type": "code",
   "execution_count": 27,
   "metadata": {},
   "outputs": [
    {
     "name": "stdout",
     "output_type": "stream",
     "text": [
      "21426429\n"
     ]
    }
   ],
   "source": [
    "n=int(input())\n",
    "ans=0\n",
    "for i in range(1,n+1):\n",
    "    if i%3==0 or i%7==0:\n",
    "        ans+=i\n",
    "print(ans)"
   ]
  },
  {
   "cell_type": "code",
   "execution_count": 28,
   "metadata": {},
   "outputs": [
    {
     "name": "stdout",
     "output_type": "stream",
     "text": [
      "*\n",
      "**\n",
      "***\n",
      "****\n",
      "*****\n"
     ]
    }
   ],
   "source": [
    "n=int(input())\n",
    "for j in range(1,n+1):\n",
    "        print('*'*j)\n"
   ]
  },
  {
   "cell_type": "code",
   "execution_count": 32,
   "metadata": {},
   "outputs": [
    {
     "name": "stdout",
     "output_type": "stream",
     "text": [
      "20\n"
     ]
    }
   ],
   "source": [
    "a1,b1=input().split()\n",
    "a=int(a1)\n",
    "b=int(b1)\n",
    "n=max(a,b)\n",
    "max_ans=[]\n",
    "for i in range(1,n+1):\n",
    "    if a%i==0 and b%i==0:\n",
    "        max_ans.append(i)\n",
    "print(max(max_ans))"
   ]
  },
  {
   "cell_type": "code",
   "execution_count": 31,
   "metadata": {},
   "outputs": [
    {
     "name": "stdout",
     "output_type": "stream",
     "text": [
      "120\n"
     ]
    }
   ],
   "source": [
    "a1,b1=input().split()\n",
    "a=int(a1)\n",
    "b=int(b1)\n",
    "for i in range(1,(a+1)*(b+1)):\n",
    "    if i%a==0 and i%b==0:\n",
    "        print(i)\n",
    "        break"
   ]
  },
  {
   "cell_type": "code",
   "execution_count": null,
   "metadata": {},
   "outputs": [],
   "source": [
    "a1,b1,c1=list(int(input().split()))\n",
    "# a=int(a1)\n",
    "# b=int(b1)\n",
    "# c=int(c1)\n",
    "print\n",
    "# max_num=0\n",
    "# if a>b>c:\n",
    "#     max_num=a\n",
    "\n",
    "# elif b>a>c:\n",
    "#     max_num=b\n",
    "#  else:\n",
    "#     max_num=c"
   ]
  },
  {
   "cell_type": "code",
   "execution_count": 30,
   "metadata": {},
   "outputs": [
    {
     "name": "stdout",
     "output_type": "stream",
     "text": [
      "2097 is common year\n"
     ]
    }
   ],
   "source": [
    "n=int(input())\n",
    "if (n%4==0 and n%100!=0) or n%400==0:\n",
    "    print(\"%d is leap year\"%n)\n",
    "else:\n",
    "    print(\"%d is common year\"%n)"
   ]
  },
  {
   "cell_type": "code",
   "execution_count": 36,
   "metadata": {},
   "outputs": [
    {
     "name": "stdout",
     "output_type": "stream",
     "text": [
      "7*1=7 7*2=14 7*3=21 7*4=28 7*5=35 7*6=42 7*7=49 7*8=56 7*9=63 \n",
      "8*1=8 8*2=16 8*3=24 8*4=32 8*5=40 8*6=48 8*7=56 8*8=64 8*9=72 \n",
      "9*1=9 9*2=18 9*3=27 9*4=36 9*5=45 9*6=54 9*7=63 9*8=72 9*9=81 \n"
     ]
    }
   ],
   "source": [
    "n=int(input())\n",
    "for j in range(n,10):\n",
    "    for i in range(1,10):\n",
    "        print(\"%d*%d=%d\"%(j,i,j*i),end=\" \")\n",
    "    print()"
   ]
  },
  {
   "cell_type": "code",
   "execution_count": null,
   "metadata": {},
   "outputs": [],
   "source": [
    "n=int(input())\n",
    "h=n//60\n",
    "m=(n%60)//60\n",
    "s="
   ]
  }
 ],
 "metadata": {
  "kernelspec": {
   "display_name": "Python 3",
   "language": "python",
   "name": "python3"
  },
  "language_info": {
   "codemirror_mode": {
    "name": "ipython",
    "version": 3
   },
   "file_extension": ".py",
   "mimetype": "text/x-python",
   "name": "python",
   "nbconvert_exporter": "python",
   "pygments_lexer": "ipython3",
   "version": "3.12.4"
  }
 },
 "nbformat": 4,
 "nbformat_minor": 2
}
